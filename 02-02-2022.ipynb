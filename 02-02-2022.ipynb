{
 "cells": [
  {
   "cell_type": "markdown",
   "id": "9405aecd",
   "metadata": {},
   "source": [
    "### Input And Output Methods\n",
    "- reading the data or information from the user---***input()***  \n",
    "    - static input  \n",
    "    - dynamic input  \n",
    "- displaying the information or data to the user---***print()***  "
   ]
  },
  {
   "cell_type": "code",
   "execution_count": 1,
   "id": "7000f8d4",
   "metadata": {},
   "outputs": [
    {
     "name": "stdout",
     "output_type": "stream",
     "text": [
      "20\n",
      "30\n"
     ]
    }
   ],
   "source": [
    "a=20  \n",
    "b=30\n",
    "print(a)\n",
    "print(b)"
   ]
  },
  {
   "cell_type": "code",
   "execution_count": 2,
   "id": "3b23581d",
   "metadata": {},
   "outputs": [
    {
     "name": "stdout",
     "output_type": "stream",
     "text": [
      "santosh\n"
     ]
    },
    {
     "data": {
      "text/plain": [
       "'santosh'"
      ]
     },
     "execution_count": 2,
     "metadata": {},
     "output_type": "execute_result"
    }
   ],
   "source": [
    "a=input()\n",
    "a"
   ]
  },
  {
   "cell_type": "code",
   "execution_count": 3,
   "id": "74374104",
   "metadata": {},
   "outputs": [
    {
     "name": "stdout",
     "output_type": "stream",
     "text": [
      "510\n"
     ]
    },
    {
     "data": {
      "text/plain": [
       "'510'"
      ]
     },
     "execution_count": 3,
     "metadata": {},
     "output_type": "execute_result"
    }
   ],
   "source": [
    "a=input()\n",
    "a"
   ]
  },
  {
   "cell_type": "code",
   "execution_count": 4,
   "id": "6ed58d99",
   "metadata": {},
   "outputs": [
    {
     "name": "stdout",
     "output_type": "stream",
     "text": [
      "enter user value510\n"
     ]
    },
    {
     "data": {
      "text/plain": [
       "'510'"
      ]
     },
     "execution_count": 4,
     "metadata": {},
     "output_type": "execute_result"
    }
   ],
   "source": [
    "a=input(\"enter user value\")\n",
    "a"
   ]
  },
  {
   "cell_type": "code",
   "execution_count": 5,
   "id": "d6e4e181",
   "metadata": {},
   "outputs": [
    {
     "name": "stdout",
     "output_type": "stream",
     "text": [
      "enter user value510\n"
     ]
    },
    {
     "data": {
      "text/plain": [
       "510.0"
      ]
     },
     "execution_count": 5,
     "metadata": {},
     "output_type": "execute_result"
    }
   ],
   "source": [
    "a=float(input(\"enter user value\"))\n",
    "a"
   ]
  },
  {
   "cell_type": "code",
   "execution_count": 6,
   "id": "3d109143",
   "metadata": {},
   "outputs": [
    {
     "name": "stdout",
     "output_type": "stream",
     "text": [
      "enter value510\n",
      "510\n"
     ]
    }
   ],
   "source": [
    "a=input(\"enter value\")\n",
    "print(a)"
   ]
  },
  {
   "cell_type": "code",
   "execution_count": 9,
   "id": "c9bdfc48",
   "metadata": {},
   "outputs": [
    {
     "name": "stdout",
     "output_type": "stream",
     "text": [
      "20 30 40\n"
     ]
    }
   ],
   "source": [
    "a=20\n",
    "b=30\n",
    "c=40\n",
    "print(a,b,c)"
   ]
  },
  {
   "cell_type": "code",
   "execution_count": 10,
   "id": "3d534816",
   "metadata": {},
   "outputs": [
    {
     "name": "stdout",
     "output_type": "stream",
     "text": [
      "20,30,40%"
     ]
    }
   ],
   "source": [
    "a=20\n",
    "b=30\n",
    "c=40\n",
    "print(a,b,c,sep=\",\",end=\"%\")"
   ]
  },
  {
   "cell_type": "code",
   "execution_count": 11,
   "id": "ec4780eb",
   "metadata": {},
   "outputs": [
    {
     "name": "stdout",
     "output_type": "stream",
     "text": [
      "20,30,40\n",
      "40\n"
     ]
    }
   ],
   "source": [
    "a=20\n",
    "b=30\n",
    "c=40\n",
    "print(a,b,c,sep=\",\",end=\"\\n\")\n",
    "print(c)"
   ]
  },
  {
   "cell_type": "code",
   "execution_count": 12,
   "id": "81945c2d",
   "metadata": {},
   "outputs": [
    {
     "name": "stdout",
     "output_type": "stream",
     "text": [
      "Help on built-in function print in module builtins:\n",
      "\n",
      "print(...)\n",
      "    print(value, ..., sep=' ', end='\\n', file=sys.stdout, flush=False)\n",
      "    \n",
      "    Prints the values to a stream, or to sys.stdout by default.\n",
      "    Optional keyword arguments:\n",
      "    file:  a file-like object (stream); defaults to the current sys.stdout.\n",
      "    sep:   string inserted between values, default a space.\n",
      "    end:   string appended after the last value, default a newline.\n",
      "    flush: whether to forcibly flush the stream.\n",
      "\n"
     ]
    }
   ],
   "source": [
    "help(print)"
   ]
  },
  {
   "cell_type": "markdown",
   "id": "fda99d76",
   "metadata": {},
   "source": [
    "### generate the three values from the user , that values seperated with $ and end with %"
   ]
  },
  {
   "cell_type": "code",
   "execution_count": 18,
   "id": "78e94ee4",
   "metadata": {},
   "outputs": [
    {
     "name": "stdout",
     "output_type": "stream",
     "text": [
      "enter a,b,c values10 20 30\n",
      "10 20 30$30$40%10 20 30 30 40\n"
     ]
    }
   ],
   "source": [
    "z=input(\"enter a,b,c values\")\n",
    "print(a,b,c,sep=\"$\",end=\"%\")\n",
    "print(a,b,c)"
   ]
  },
  {
   "cell_type": "markdown",
   "id": "15ac0c6f",
   "metadata": {},
   "source": [
    "### OPERATORS\n",
    "- Airthematic operators(+,-,*,**,/,//,%)  \n",
    "    - output for the normal division is quotient  \n",
    "    - output for the int division or floor division is integer part of the quotient  \n",
    "    - output for the modulo division is reminder  \n",
    "- Assignment operators(=)  \n",
    "- Comparision operators(<,>,<=,>=,==)  \n",
    "- Logical operators(and,or,not)  \n",
    "- Bitwise operators(&,|,^)  \n",
    "- Identity operators(is (==),isnot(!=)  \n",
    "- Membership opeartors(in,notin)  "
   ]
  },
  {
   "cell_type": "markdown",
   "id": "5be16bec",
   "metadata": {},
   "source": [
    "### Airthematic Operators  "
   ]
  },
  {
   "cell_type": "code",
   "execution_count": 19,
   "id": "5833b2a6",
   "metadata": {},
   "outputs": [
    {
     "name": "stdout",
     "output_type": "stream",
     "text": [
      "addition 30\n",
      "subtraction -10\n",
      "multiplication 200\n",
      "power 100000000000000000000\n",
      "division 0.5\n",
      "int division or floor division 0\n",
      "modulo division 10\n"
     ]
    }
   ],
   "source": [
    "a=10\n",
    "b=20\n",
    "print(\"addition\",a+b)\n",
    "print(\"subtraction\",a-b)\n",
    "print(\"multiplication\",a*b)\n",
    "print(\"power\",a**b)\n",
    "print(\"division\",a/b)\n",
    "print(\"int division or floor division\",a//b)\n",
    "print(\"modulo division\",a%b)"
   ]
  },
  {
   "cell_type": "markdown",
   "id": "9eee1f49",
   "metadata": {},
   "source": [
    "### Assignment Operators  "
   ]
  },
  {
   "cell_type": "markdown",
   "id": "15620840",
   "metadata": {},
   "source": [
    "- it is represented with =  \n",
    "- leftside value of the operator(=)is called as a variable  \n",
    "- rightside value if the variable(=)is called as value  "
   ]
  },
  {
   "cell_type": "code",
   "execution_count": 46,
   "id": "b87e3199",
   "metadata": {},
   "outputs": [
    {
     "name": "stdout",
     "output_type": "stream",
     "text": [
      "20\n",
      "59\n"
     ]
    }
   ],
   "source": [
    "a=20\n",
    "b=59\n",
    "print(a)\n",
    "print(b)"
   ]
  },
  {
   "cell_type": "markdown",
   "id": "2fd8be7f",
   "metadata": {},
   "source": [
    "### Comparision  "
   ]
  },
  {
   "cell_type": "code",
   "execution_count": 20,
   "id": "1d86d680",
   "metadata": {},
   "outputs": [
    {
     "name": "stdout",
     "output_type": "stream",
     "text": [
      "santosh\n"
     ]
    }
   ],
   "source": [
    "if 2>9 and 2<=6:\n",
    "    print(\"print true or false\")\n",
    "else:\n",
    "    print(\"santosh\")"
   ]
  },
  {
   "cell_type": "code",
   "execution_count": 21,
   "id": "4c14860a",
   "metadata": {},
   "outputs": [
    {
     "data": {
      "text/plain": [
       "False"
      ]
     },
     "execution_count": 21,
     "metadata": {},
     "output_type": "execute_result"
    }
   ],
   "source": [
    "2>=7"
   ]
  },
  {
   "cell_type": "code",
   "execution_count": 22,
   "id": "48823fdc",
   "metadata": {},
   "outputs": [
    {
     "data": {
      "text/plain": [
       "True"
      ]
     },
     "execution_count": 22,
     "metadata": {},
     "output_type": "execute_result"
    }
   ],
   "source": [
    "3<=5"
   ]
  },
  {
   "cell_type": "markdown",
   "id": "ca84ff4c",
   "metadata": {},
   "source": [
    "### Logical Operators  \n",
    "- and,or,not  \n",
    "- if all the inputs are true output is true(and).  \n",
    "- if any of the input is true the output is true(or).  \n",
    "- opposite operation for the given one.  "
   ]
  },
  {
   "cell_type": "code",
   "execution_count": 23,
   "id": "b60d6914",
   "metadata": {},
   "outputs": [
    {
     "data": {
      "text/plain": [
       "False"
      ]
     },
     "execution_count": 23,
     "metadata": {},
     "output_type": "execute_result"
    }
   ],
   "source": [
    "2<5 and 3>6 "
   ]
  },
  {
   "cell_type": "code",
   "execution_count": 24,
   "id": "29c2d459",
   "metadata": {},
   "outputs": [
    {
     "data": {
      "text/plain": [
       "False"
      ]
     },
     "execution_count": 24,
     "metadata": {},
     "output_type": "execute_result"
    }
   ],
   "source": [
    "2>5 and 3<6"
   ]
  },
  {
   "cell_type": "code",
   "execution_count": 25,
   "id": "2a0586d1",
   "metadata": {},
   "outputs": [
    {
     "data": {
      "text/plain": [
       "False"
      ]
     },
     "execution_count": 25,
     "metadata": {},
     "output_type": "execute_result"
    }
   ],
   "source": [
    "5>9 or 8<3"
   ]
  },
  {
   "cell_type": "code",
   "execution_count": 26,
   "id": "041e6881",
   "metadata": {},
   "outputs": [
    {
     "data": {
      "text/plain": [
       "False"
      ]
     },
     "execution_count": 26,
     "metadata": {},
     "output_type": "execute_result"
    }
   ],
   "source": [
    "a=100\n",
    "not a"
   ]
  },
  {
   "cell_type": "code",
   "execution_count": 27,
   "id": "36a66fe8",
   "metadata": {},
   "outputs": [
    {
     "data": {
      "text/plain": [
       "True"
      ]
     },
     "execution_count": 27,
     "metadata": {},
     "output_type": "execute_result"
    }
   ],
   "source": [
    "4<5 or 8>2"
   ]
  },
  {
   "cell_type": "code",
   "execution_count": 28,
   "id": "d9be215f",
   "metadata": {},
   "outputs": [
    {
     "data": {
      "text/plain": [
       "True"
      ]
     },
     "execution_count": 28,
     "metadata": {},
     "output_type": "execute_result"
    }
   ],
   "source": [
    "4<5 and 8>2"
   ]
  },
  {
   "cell_type": "markdown",
   "id": "7af9948e",
   "metadata": {},
   "source": [
    "### Bitwise Operators  "
   ]
  },
  {
   "cell_type": "code",
   "execution_count": 31,
   "id": "f60447df",
   "metadata": {},
   "outputs": [
    {
     "data": {
      "text/plain": [
       "2"
      ]
     },
     "execution_count": 31,
     "metadata": {},
     "output_type": "execute_result"
    }
   ],
   "source": [
    "2 & 3  \n",
    "# 2- 0 0 1 0  \n",
    "# 3- 0 0 1 1  \n",
    "# ----------    \n",
    "# - 0 0 1 0  "
   ]
  },
  {
   "cell_type": "code",
   "execution_count": 30,
   "id": "c9265985",
   "metadata": {},
   "outputs": [
    {
     "data": {
      "text/plain": [
       "7"
      ]
     },
     "execution_count": 30,
     "metadata": {},
     "output_type": "execute_result"
    }
   ],
   "source": [
    "3|4"
   ]
  },
  {
   "cell_type": "code",
   "execution_count": 32,
   "id": "91c539d1",
   "metadata": {},
   "outputs": [
    {
     "data": {
      "text/plain": [
       "1"
      ]
     },
     "execution_count": 32,
     "metadata": {},
     "output_type": "execute_result"
    }
   ],
   "source": [
    "2^3"
   ]
  },
  {
   "cell_type": "code",
   "execution_count": 33,
   "id": "00d6ad75",
   "metadata": {},
   "outputs": [
    {
     "data": {
      "text/plain": [
       "16"
      ]
     },
     "execution_count": 33,
     "metadata": {},
     "output_type": "execute_result"
    }
   ],
   "source": [
    "2<<3"
   ]
  },
  {
   "cell_type": "code",
   "execution_count": 34,
   "id": "193daf9d",
   "metadata": {},
   "outputs": [
    {
     "data": {
      "text/plain": [
       "0"
      ]
     },
     "execution_count": 34,
     "metadata": {},
     "output_type": "execute_result"
    }
   ],
   "source": [
    "2>>3"
   ]
  },
  {
   "cell_type": "markdown",
   "id": "8a86ae21",
   "metadata": {},
   "source": [
    "### Identity Operators  "
   ]
  },
  {
   "cell_type": "code",
   "execution_count": 35,
   "id": "cf3e1371",
   "metadata": {},
   "outputs": [
    {
     "name": "stderr",
     "output_type": "stream",
     "text": [
      "<>:1: SyntaxWarning: \"is\" with a literal. Did you mean \"==\"?\n",
      "<>:1: SyntaxWarning: \"is not\" with a literal. Did you mean \"!=\"?\n",
      "<>:1: SyntaxWarning: \"is\" with a literal. Did you mean \"==\"?\n",
      "<>:1: SyntaxWarning: \"is not\" with a literal. Did you mean \"!=\"?\n",
      "C:\\Users\\Lab\\AppData\\Local\\Temp/ipykernel_2084/3974128756.py:1: SyntaxWarning: \"is\" with a literal. Did you mean \"==\"?\n",
      "  a is 100 and a is not 100\n",
      "C:\\Users\\Lab\\AppData\\Local\\Temp/ipykernel_2084/3974128756.py:1: SyntaxWarning: \"is not\" with a literal. Did you mean \"!=\"?\n",
      "  a is 100 and a is not 100\n"
     ]
    },
    {
     "data": {
      "text/plain": [
       "False"
      ]
     },
     "execution_count": 35,
     "metadata": {},
     "output_type": "execute_result"
    }
   ],
   "source": [
    "a is 100 and a is not 100  "
   ]
  },
  {
   "cell_type": "code",
   "execution_count": 36,
   "id": "9b3bbc9a",
   "metadata": {},
   "outputs": [
    {
     "data": {
      "text/plain": [
       "False"
      ]
     },
     "execution_count": 36,
     "metadata": {},
     "output_type": "execute_result"
    }
   ],
   "source": [
    "a==100 and a!=100  "
   ]
  },
  {
   "cell_type": "markdown",
   "id": "e8daed0e",
   "metadata": {},
   "source": [
    "### Membership Operator  "
   ]
  },
  {
   "cell_type": "code",
   "execution_count": 37,
   "id": "3f7bc9f4",
   "metadata": {},
   "outputs": [
    {
     "data": {
      "text/plain": [
       "True"
      ]
     },
     "execution_count": 37,
     "metadata": {},
     "output_type": "execute_result"
    }
   ],
   "source": [
    "s=[1,2,3,4,6,8,9]  \n",
    "4 in s"
   ]
  },
  {
   "cell_type": "code",
   "execution_count": 38,
   "id": "4df3ef89",
   "metadata": {},
   "outputs": [
    {
     "data": {
      "text/plain": [
       "True"
      ]
     },
     "execution_count": 38,
     "metadata": {},
     "output_type": "execute_result"
    }
   ],
   "source": [
    "10 not in s"
   ]
  },
  {
   "cell_type": "code",
   "execution_count": 39,
   "id": "bfb8df3a",
   "metadata": {},
   "outputs": [
    {
     "data": {
      "text/plain": [
       "False"
      ]
     },
     "execution_count": 39,
     "metadata": {},
     "output_type": "execute_result"
    }
   ],
   "source": [
    "2 not in s"
   ]
  },
  {
   "cell_type": "code",
   "execution_count": 43,
   "id": "1155c87d",
   "metadata": {},
   "outputs": [],
   "source": [
    "a=45\n",
    "# a+=1 --->a=a+1  \n",
    "# a-=1 --->a=a-1  \n",
    "# a*=1 --->a=a*1  \n",
    "# a/=1 --->a=a/1  \n"
   ]
  },
  {
   "cell_type": "code",
   "execution_count": 44,
   "id": "6aa6c8ff",
   "metadata": {},
   "outputs": [
    {
     "data": {
      "text/plain": [
       "45"
      ]
     },
     "execution_count": 44,
     "metadata": {},
     "output_type": "execute_result"
    }
   ],
   "source": [
    "a"
   ]
  },
  {
   "cell_type": "markdown",
   "id": "b0006c5c",
   "metadata": {},
   "source": [
    "### Flow Control  \n",
    "- conditional statements(if,else,elseif,nestedif)  \n",
    "- Loops(for,while)  \n",
    "- Break,Return  "
   ]
  },
  {
   "cell_type": "code",
   "execution_count": 47,
   "id": "f9505cab",
   "metadata": {},
   "outputs": [
    {
     "ename": "SyntaxError",
     "evalue": "invalid syntax (Temp/ipykernel_2084/2051595515.py, line 2)",
     "output_type": "error",
     "traceback": [
      "\u001b[1;36m  File \u001b[1;32m\"C:\\Users\\Lab\\AppData\\Local\\Temp/ipykernel_2084/2051595515.py\"\u001b[1;36m, line \u001b[1;32m2\u001b[0m\n\u001b[1;33m    if(condition){\u001b[0m\n\u001b[1;37m                 ^\u001b[0m\n\u001b[1;31mSyntaxError\u001b[0m\u001b[1;31m:\u001b[0m invalid syntax\n"
     ]
    }
   ],
   "source": [
    "# c-Language  \n",
    "if(condition){\n",
    "    print(a)\n",
    "}"
   ]
  },
  {
   "cell_type": "markdown",
   "id": "eebea8ed",
   "metadata": {},
   "source": [
    "### Conditional Statements  "
   ]
  },
  {
   "cell_type": "code",
   "execution_count": null,
   "id": "cdd3f86d",
   "metadata": {},
   "outputs": [],
   "source": [
    "# if\n",
    "if (condition):\n",
    "    statement1\n",
    "    statement2\n",
    "    statement3\n",
    "    ----------\n",
    "    statementn"
   ]
  },
  {
   "cell_type": "code",
   "execution_count": null,
   "id": "91ec390c",
   "metadata": {},
   "outputs": [],
   "source": [
    "# if-else\n",
    "if (condition):\n",
    "    statement1\n",
    "    statement2\n",
    "    statement3\n",
    "    ----------\n",
    "    statementn\n",
    "else:\n",
    "    statement1\n",
    "    statement2\n",
    "    ----------\n",
    "    statementn"
   ]
  },
  {
   "cell_type": "code",
   "execution_count": 48,
   "id": "c5730ad5",
   "metadata": {},
   "outputs": [
    {
     "name": "stdout",
     "output_type": "stream",
     "text": [
      "False\n"
     ]
    }
   ],
   "source": [
    "if 2>3:\n",
    "    print(\"True\")\n",
    "else:\n",
    "    print(\"False\")"
   ]
  },
  {
   "cell_type": "code",
   "execution_count": null,
   "id": "5e72588b",
   "metadata": {},
   "outputs": [],
   "source": [
    "# given number is even or odd  \n",
    "n=int(input(\"enter the number\"))  \n",
    "if(n%2==0):\n",
    "    print(\"even number\")\n",
    "else:\n",
    "    print(\"odd number\")"
   ]
  }
 ],
 "metadata": {
  "kernelspec": {
   "display_name": "Python 3 (ipykernel)",
   "language": "python",
   "name": "python3"
  },
  "language_info": {
   "codemirror_mode": {
    "name": "ipython",
    "version": 3
   },
   "file_extension": ".py",
   "mimetype": "text/x-python",
   "name": "python",
   "nbconvert_exporter": "python",
   "pygments_lexer": "ipython3",
   "version": "3.9.7"
  }
 },
 "nbformat": 4,
 "nbformat_minor": 5
}
