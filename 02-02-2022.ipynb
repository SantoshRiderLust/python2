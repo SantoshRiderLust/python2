{
 "cells": [
  {
   "cell_type": "markdown",
   "id": "b1aed0f1",
   "metadata": {},
   "source": [
    "### Input And Output Methods\n",
    "- reading the data or information from the user---***input()***  \n",
    "    - static input  \n",
    "    - dynamic input  \n",
    "- displaying the information or data to the user---***print()***  "
   ]
  },
  {
   "cell_type": "code",
   "execution_count": 1,
   "id": "f579106f",
   "metadata": {},
   "outputs": [
    {
     "name": "stdout",
     "output_type": "stream",
     "text": [
      "20\n",
      "30\n"
     ]
    }
   ],
   "source": [
    "a=20  \n",
    "b=30\n",
    "print(a)\n",
    "print(b)"
   ]
  },
  {
   "cell_type": "code",
   "execution_count": 2,
   "id": "fe88ef5e",
   "metadata": {},
   "outputs": [
    {
     "name": "stdout",
     "output_type": "stream",
     "text": [
      "santosh\n"
     ]
    },
    {
     "data": {
      "text/plain": [
       "'santosh'"
      ]
     },
     "execution_count": 2,
     "metadata": {},
     "output_type": "execute_result"
    }
   ],
   "source": [
    "a=input()\n",
    "a"
   ]
  },
  {
   "cell_type": "code",
   "execution_count": 3,
   "id": "451bfe17",
   "metadata": {},
   "outputs": [
    {
     "name": "stdout",
     "output_type": "stream",
     "text": [
      "510\n"
     ]
    },
    {
     "data": {
      "text/plain": [
       "'510'"
      ]
     },
     "execution_count": 3,
     "metadata": {},
     "output_type": "execute_result"
    }
   ],
   "source": [
    "a=input()\n",
    "a"
   ]
  },
  {
   "cell_type": "code",
   "execution_count": 4,
   "id": "8095b7c5",
   "metadata": {},
   "outputs": [
    {
     "name": "stdout",
     "output_type": "stream",
     "text": [
      "enter user value510\n"
     ]
    },
    {
     "data": {
      "text/plain": [
       "'510'"
      ]
     },
     "execution_count": 4,
     "metadata": {},
     "output_type": "execute_result"
    }
   ],
   "source": [
    "a=input(\"enter user value\")\n",
    "a"
   ]
  },
  {
   "cell_type": "code",
   "execution_count": 5,
   "id": "63ee028b",
   "metadata": {},
   "outputs": [
    {
     "name": "stdout",
     "output_type": "stream",
     "text": [
      "enter user value510\n"
     ]
    },
    {
     "data": {
      "text/plain": [
       "510.0"
      ]
     },
     "execution_count": 5,
     "metadata": {},
     "output_type": "execute_result"
    }
   ],
   "source": [
    "a=float(input(\"enter user value\"))\n",
    "a"
   ]
  },
  {
   "cell_type": "code",
   "execution_count": 6,
   "id": "f0f8b4b8",
   "metadata": {},
   "outputs": [
    {
     "name": "stdout",
     "output_type": "stream",
     "text": [
      "enter value510\n",
      "510\n"
     ]
    }
   ],
   "source": [
    "a=input(\"enter value\")\n",
    "print(a)"
   ]
  },
  {
   "cell_type": "code",
   "execution_count": 9,
   "id": "60bcbe60",
   "metadata": {},
   "outputs": [
    {
     "name": "stdout",
     "output_type": "stream",
     "text": [
      "20 30 40\n"
     ]
    }
   ],
   "source": [
    "a=20\n",
    "b=30\n",
    "c=40\n",
    "print(a,b,c)"
   ]
  },
  {
   "cell_type": "code",
   "execution_count": 10,
   "id": "35c24c46",
   "metadata": {},
   "outputs": [
    {
     "name": "stdout",
     "output_type": "stream",
     "text": [
      "20,30,40%"
     ]
    }
   ],
   "source": [
    "a=20\n",
    "b=30\n",
    "c=40\n",
    "print(a,b,c,sep=\",\",end=\"%\")"
   ]
  },
  {
   "cell_type": "code",
   "execution_count": 11,
   "id": "6eb4edf6",
   "metadata": {},
   "outputs": [
    {
     "name": "stdout",
     "output_type": "stream",
     "text": [
      "20,30,40\n",
      "40\n"
     ]
    }
   ],
   "source": [
    "a=20\n",
    "b=30\n",
    "c=40\n",
    "print(a,b,c,sep=\",\",end=\"\\n\")\n",
    "print(c)"
   ]
  },
  {
   "cell_type": "code",
   "execution_count": 12,
   "id": "68c37385",
   "metadata": {},
   "outputs": [
    {
     "name": "stdout",
     "output_type": "stream",
     "text": [
      "Help on built-in function print in module builtins:\n",
      "\n",
      "print(...)\n",
      "    print(value, ..., sep=' ', end='\\n', file=sys.stdout, flush=False)\n",
      "    \n",
      "    Prints the values to a stream, or to sys.stdout by default.\n",
      "    Optional keyword arguments:\n",
      "    file:  a file-like object (stream); defaults to the current sys.stdout.\n",
      "    sep:   string inserted between values, default a space.\n",
      "    end:   string appended after the last value, default a newline.\n",
      "    flush: whether to forcibly flush the stream.\n",
      "\n"
     ]
    }
   ],
   "source": [
    "help(print)"
   ]
  },
  {
   "cell_type": "markdown",
   "id": "c2f89315",
   "metadata": {},
   "source": [
    "### generate the three values from the user , that values seperated with $ and end with %"
   ]
  },
  {
   "cell_type": "code",
   "execution_count": 18,
   "id": "305d673d",
   "metadata": {},
   "outputs": [
    {
     "name": "stdout",
     "output_type": "stream",
     "text": [
      "enter a,b,c values10 20 30\n",
      "10 20 30$30$40%10 20 30 30 40\n"
     ]
    }
   ],
   "source": [
    "z=input(\"enter a,b,c values\")\n",
    "print(a,b,c,sep=\"$\",end=\"%\")\n",
    "print(a,b,c)"
   ]
  },
  {
   "cell_type": "markdown",
   "id": "2dbcf44d",
   "metadata": {},
   "source": [
    "### OPERATORS\n",
    "- Airthematic operators(+,-,*,**,/,//,%)  \n",
    "    - output for the normal division is quotient  \n",
    "    - output for the int division or floor division is integer part of the quotient  \n",
    "    - output for the modulo division is reminder  \n",
    "- Assignment operators(=)  \n",
    "- Comparision operators(<,>,<=,>=,==)  \n",
    "- Logical operators(and,or,not)  \n",
    "- Bitwise operators(&,|,^)  \n",
    "- Identity operators(is (==),isnot(!=)  \n",
    "- Membership opeartors(in,notin)  "
   ]
  },
  {
   "cell_type": "markdown",
   "id": "dc06f317",
   "metadata": {},
   "source": [
    "### Airthematic Operators  "
   ]
  },
  {
   "cell_type": "code",
   "execution_count": 19,
   "id": "9475addf",
   "metadata": {},
   "outputs": [
    {
     "name": "stdout",
     "output_type": "stream",
     "text": [
      "addition 30\n",
      "subtraction -10\n",
      "multiplication 200\n",
      "power 100000000000000000000\n",
      "division 0.5\n",
      "int division or floor division 0\n",
      "modulo division 10\n"
     ]
    }
   ],
   "source": [
    "a=10\n",
    "b=20\n",
    "print(\"addition\",a+b)\n",
    "print(\"subtraction\",a-b)\n",
    "print(\"multiplication\",a*b)\n",
    "print(\"power\",a**b)\n",
    "print(\"division\",a/b)\n",
    "print(\"int division or floor division\",a//b)\n",
    "print(\"modulo division\",a%b)"
   ]
  },
  {
   "cell_type": "markdown",
   "id": "2d13968a",
   "metadata": {},
   "source": [
    "### Assignment Operators  "
   ]
  },
  {
   "cell_type": "markdown",
   "id": "bc2ace05",
   "metadata": {},
   "source": [
    "- it is represented with =  \n",
    "- leftside value of the operator(=)is called as a variable  \n",
    "- rightside value if the variable(=)is called as value  "
   ]
  },
  {
   "cell_type": "code",
   "execution_count": 46,
   "id": "30804cf6",
   "metadata": {},
   "outputs": [
    {
     "name": "stdout",
     "output_type": "stream",
     "text": [
      "20\n",
      "59\n"
     ]
    }
   ],
   "source": [
    "a=20\n",
    "b=59\n",
    "print(a)\n",
    "print(b)"
   ]
  },
  {
   "cell_type": "markdown",
   "id": "a81136d2",
   "metadata": {},
   "source": [
    "### Comparision  "
   ]
  },
  {
   "cell_type": "code",
   "execution_count": 20,
   "id": "2b502bc3",
   "metadata": {},
   "outputs": [
    {
     "name": "stdout",
     "output_type": "stream",
     "text": [
      "santosh\n"
     ]
    }
   ],
   "source": [
    "if 2>9 and 2<=6:\n",
    "    print(\"print true or false\")\n",
    "else:\n",
    "    print(\"santosh\")"
   ]
  },
  {
   "cell_type": "code",
   "execution_count": 21,
   "id": "03263e79",
   "metadata": {},
   "outputs": [
    {
     "data": {
      "text/plain": [
       "False"
      ]
     },
     "execution_count": 21,
     "metadata": {},
     "output_type": "execute_result"
    }
   ],
   "source": [
    "2>=7"
   ]
  },
  {
   "cell_type": "code",
   "execution_count": 22,
   "id": "272ae708",
   "metadata": {},
   "outputs": [
    {
     "data": {
      "text/plain": [
       "True"
      ]
     },
     "execution_count": 22,
     "metadata": {},
     "output_type": "execute_result"
    }
   ],
   "source": [
    "3<=5"
   ]
  },
  {
   "cell_type": "markdown",
   "id": "3f1bca2f",
   "metadata": {},
   "source": [
    "### Logical Operators  \n",
    "- and,or,not  \n",
    "- if all the inputs are true output is true(and).  \n",
    "- if any of the input is true the output is true(or).  \n",
    "- opposite operation for the given one.  "
   ]
  },
  {
   "cell_type": "code",
   "execution_count": 23,
   "id": "7744bec2",
   "metadata": {},
   "outputs": [
    {
     "data": {
      "text/plain": [
       "False"
      ]
     },
     "execution_count": 23,
     "metadata": {},
     "output_type": "execute_result"
    }
   ],
   "source": [
    "2<5 and 3>6 "
   ]
  },
  {
   "cell_type": "code",
   "execution_count": 24,
   "id": "1ea4cde4",
   "metadata": {},
   "outputs": [
    {
     "data": {
      "text/plain": [
       "False"
      ]
     },
     "execution_count": 24,
     "metadata": {},
     "output_type": "execute_result"
    }
   ],
   "source": [
    "2>5 and 3<6"
   ]
  },
  {
   "cell_type": "code",
   "execution_count": 25,
   "id": "8f2e2936",
   "metadata": {},
   "outputs": [
    {
     "data": {
      "text/plain": [
       "False"
      ]
     },
     "execution_count": 25,
     "metadata": {},
     "output_type": "execute_result"
    }
   ],
   "source": [
    "5>9 or 8<3"
   ]
  },
  {
   "cell_type": "code",
   "execution_count": 26,
   "id": "e4455395",
   "metadata": {},
   "outputs": [
    {
     "data": {
      "text/plain": [
       "False"
      ]
     },
     "execution_count": 26,
     "metadata": {},
     "output_type": "execute_result"
    }
   ],
   "source": [
    "a=100\n",
    "not a"
   ]
  },
  {
   "cell_type": "code",
   "execution_count": 27,
   "id": "f4b4cf36",
   "metadata": {},
   "outputs": [
    {
     "data": {
      "text/plain": [
       "True"
      ]
     },
     "execution_count": 27,
     "metadata": {},
     "output_type": "execute_result"
    }
   ],
   "source": [
    "4<5 or 8>2"
   ]
  },
  {
   "cell_type": "code",
   "execution_count": 28,
   "id": "ef7beef7",
   "metadata": {},
   "outputs": [
    {
     "data": {
      "text/plain": [
       "True"
      ]
     },
     "execution_count": 28,
     "metadata": {},
     "output_type": "execute_result"
    }
   ],
   "source": [
    "4<5 and 8>2"
   ]
  },
  {
   "cell_type": "markdown",
   "id": "800284cf",
   "metadata": {},
   "source": [
    "### Bitwise Operators  "
   ]
  },
  {
   "cell_type": "code",
   "execution_count": 31,
   "id": "6dda2d97",
   "metadata": {},
   "outputs": [
    {
     "data": {
      "text/plain": [
       "2"
      ]
     },
     "execution_count": 31,
     "metadata": {},
     "output_type": "execute_result"
    }
   ],
   "source": [
    "2 & 3  \n",
    "# 2- 0 0 1 0  \n",
    "# 3- 0 0 1 1  \n",
    "# ----------    \n",
    "# - 0 0 1 0  "
   ]
  },
  {
   "cell_type": "code",
   "execution_count": 30,
   "id": "d8ec78ea",
   "metadata": {},
   "outputs": [
    {
     "data": {
      "text/plain": [
       "7"
      ]
     },
     "execution_count": 30,
     "metadata": {},
     "output_type": "execute_result"
    }
   ],
   "source": [
    "3|4"
   ]
  },
  {
   "cell_type": "code",
   "execution_count": 32,
   "id": "e7ff5662",
   "metadata": {},
   "outputs": [
    {
     "data": {
      "text/plain": [
       "1"
      ]
     },
     "execution_count": 32,
     "metadata": {},
     "output_type": "execute_result"
    }
   ],
   "source": [
    "2^3"
   ]
  },
  {
   "cell_type": "code",
   "execution_count": 33,
   "id": "f89247c1",
   "metadata": {},
   "outputs": [
    {
     "data": {
      "text/plain": [
       "16"
      ]
     },
     "execution_count": 33,
     "metadata": {},
     "output_type": "execute_result"
    }
   ],
   "source": [
    "2<<3"
   ]
  },
  {
   "cell_type": "code",
   "execution_count": 34,
   "id": "31a02660",
   "metadata": {},
   "outputs": [
    {
     "data": {
      "text/plain": [
       "0"
      ]
     },
     "execution_count": 34,
     "metadata": {},
     "output_type": "execute_result"
    }
   ],
   "source": [
    "2>>3"
   ]
  },
  {
   "cell_type": "markdown",
   "id": "fc5e5655",
   "metadata": {},
   "source": [
    "### Identity Operators  "
   ]
  },
  {
   "cell_type": "code",
   "execution_count": 35,
   "id": "90e2ec00",
   "metadata": {},
   "outputs": [
    {
     "name": "stderr",
     "output_type": "stream",
     "text": [
      "<>:1: SyntaxWarning: \"is\" with a literal. Did you mean \"==\"?\n",
      "<>:1: SyntaxWarning: \"is not\" with a literal. Did you mean \"!=\"?\n",
      "<>:1: SyntaxWarning: \"is\" with a literal. Did you mean \"==\"?\n",
      "<>:1: SyntaxWarning: \"is not\" with a literal. Did you mean \"!=\"?\n",
      "C:\\Users\\Lab\\AppData\\Local\\Temp/ipykernel_2084/3974128756.py:1: SyntaxWarning: \"is\" with a literal. Did you mean \"==\"?\n",
      "  a is 100 and a is not 100\n",
      "C:\\Users\\Lab\\AppData\\Local\\Temp/ipykernel_2084/3974128756.py:1: SyntaxWarning: \"is not\" with a literal. Did you mean \"!=\"?\n",
      "  a is 100 and a is not 100\n"
     ]
    },
    {
     "data": {
      "text/plain": [
       "False"
      ]
     },
     "execution_count": 35,
     "metadata": {},
     "output_type": "execute_result"
    }
   ],
   "source": [
    "a is 100 and a is not 100  "
   ]
  },
  {
   "cell_type": "code",
   "execution_count": 36,
   "id": "e3283473",
   "metadata": {},
   "outputs": [
    {
     "data": {
      "text/plain": [
       "False"
      ]
     },
     "execution_count": 36,
     "metadata": {},
     "output_type": "execute_result"
    }
   ],
   "source": [
    "a==100 and a!=100  "
   ]
  },
  {
   "cell_type": "markdown",
   "id": "66dc8df9",
   "metadata": {},
   "source": [
    "### Membership Operator  "
   ]
  },
  {
   "cell_type": "code",
   "execution_count": 37,
   "id": "22e9f868",
   "metadata": {},
   "outputs": [
    {
     "data": {
      "text/plain": [
       "True"
      ]
     },
     "execution_count": 37,
     "metadata": {},
     "output_type": "execute_result"
    }
   ],
   "source": [
    "s=[1,2,3,4,6,8,9]  \n",
    "4 in s"
   ]
  },
  {
   "cell_type": "code",
   "execution_count": 38,
   "id": "84c9df50",
   "metadata": {},
   "outputs": [
    {
     "data": {
      "text/plain": [
       "True"
      ]
     },
     "execution_count": 38,
     "metadata": {},
     "output_type": "execute_result"
    }
   ],
   "source": [
    "10 not in s"
   ]
  },
  {
   "cell_type": "code",
   "execution_count": 39,
   "id": "85e697fb",
   "metadata": {},
   "outputs": [
    {
     "data": {
      "text/plain": [
       "False"
      ]
     },
     "execution_count": 39,
     "metadata": {},
     "output_type": "execute_result"
    }
   ],
   "source": [
    "2 not in s"
   ]
  },
  {
   "cell_type": "code",
   "execution_count": 43,
   "id": "0cf268e8",
   "metadata": {},
   "outputs": [],
   "source": [
    "a=45\n",
    "# a+=1 --->a=a+1  \n",
    "# a-=1 --->a=a-1  \n",
    "# a*=1 --->a=a*1  \n",
    "# a/=1 --->a=a/1  \n"
   ]
  },
  {
   "cell_type": "code",
   "execution_count": 44,
   "id": "b67d1bd7",
   "metadata": {},
   "outputs": [
    {
     "data": {
      "text/plain": [
       "45"
      ]
     },
     "execution_count": 44,
     "metadata": {},
     "output_type": "execute_result"
    }
   ],
   "source": [
    "a"
   ]
  },
  {
   "cell_type": "markdown",
   "id": "b5dfdd72",
   "metadata": {},
   "source": [
    "### Flow Control  \n",
    "- conditional statements(if,else,elseif,nestedif)  \n",
    "- Loops(for,while)  \n",
    "- Break,Return  "
   ]
  },
  {
   "cell_type": "code",
   "execution_count": 47,
   "id": "b7ec9f31",
   "metadata": {},
   "outputs": [
    {
     "ename": "SyntaxError",
     "evalue": "invalid syntax (Temp/ipykernel_2084/2051595515.py, line 2)",
     "output_type": "error",
     "traceback": [
      "\u001b[1;36m  File \u001b[1;32m\"C:\\Users\\Lab\\AppData\\Local\\Temp/ipykernel_2084/2051595515.py\"\u001b[1;36m, line \u001b[1;32m2\u001b[0m\n\u001b[1;33m    if(condition){\u001b[0m\n\u001b[1;37m                 ^\u001b[0m\n\u001b[1;31mSyntaxError\u001b[0m\u001b[1;31m:\u001b[0m invalid syntax\n"
     ]
    }
   ],
   "source": [
    "# c-Language  \n",
    "if(condition){\n",
    "    print(a)\n",
    "}"
   ]
  },
  {
   "cell_type": "markdown",
   "id": "71a7c53e",
   "metadata": {},
   "source": [
    "### Conditional Statements  "
   ]
  },
  {
   "cell_type": "code",
   "execution_count": null,
   "id": "39ba9640",
   "metadata": {},
   "outputs": [],
   "source": [
    "# if\n",
    "if (condition):\n",
    "    statement1\n",
    "    statement2\n",
    "    statement3\n",
    "    ----------\n",
    "    statementn"
   ]
  },
  {
   "cell_type": "code",
   "execution_count": null,
   "id": "c470dd89",
   "metadata": {},
   "outputs": [],
   "source": [
    "# if-else\n",
    "if (condition):\n",
    "    statement1\n",
    "    statement2\n",
    "    statement3\n",
    "    ----------\n",
    "    statementn\n",
    "else:\n",
    "    statement1\n",
    "    statement2\n",
    "    ----------\n",
    "    statementn"
   ]
  },
  {
   "cell_type": "code",
   "execution_count": 48,
   "id": "e39a9fa6",
   "metadata": {},
   "outputs": [
    {
     "name": "stdout",
     "output_type": "stream",
     "text": [
      "False\n"
     ]
    }
   ],
   "source": [
    "if 2>3:\n",
    "    print(\"True\")\n",
    "else:\n",
    "    print(\"False\")"
   ]
  },
  {
   "cell_type": "code",
   "execution_count": 49,
   "id": "072d5da4",
   "metadata": {},
   "outputs": [
    {
     "name": "stdout",
     "output_type": "stream",
     "text": [
      "enter the number10 \n",
      "even number\n"
     ]
    }
   ],
   "source": [
    "# given number is even or odd  \n",
    "n=int(input(\"enter the number\"))  \n",
    "if(n%2==0):\n",
    "    print(\"even number\")\n",
    "else:\n",
    "    print(\"odd number\")"
   ]
  },
  {
   "cell_type": "code",
   "execution_count": 51,
   "id": "8f2ea7fb",
   "metadata": {},
   "outputs": [
    {
     "name": "stdout",
     "output_type": "stream",
     "text": [
      "enter value33\n",
      "Positive value\n"
     ]
    }
   ],
   "source": [
    "# given number is zero or positive or negitive \n",
    "n=int(input(\"enter value\"))\n",
    "if(n==0):\n",
    "    print(\"Zero value\")\n",
    "elif(n>0):\n",
    "    print(\"Positive value\")\n",
    "else:\n",
    "    print(\"Negitive value\")"
   ]
  },
  {
   "cell_type": "code",
   "execution_count": 54,
   "id": "56fa78ec",
   "metadata": {},
   "outputs": [
    {
     "name": "stdout",
     "output_type": "stream",
     "text": [
      "Invalid number\n"
     ]
    }
   ],
   "source": [
    "# number is divisible by 2 but not divisible by 10 \n",
    "a=23\n",
    "if(a%2==0 and a%10!=0):  \n",
    "    print(\"Valid number\")\n",
    "else:\n",
    "    print(\"Invalid number\")"
   ]
  },
  {
   "cell_type": "markdown",
   "id": "9126eb67",
   "metadata": {},
   "source": [
    "### Range  \n",
    "- syntax for the range is range(start,endvalue,step value)  \n",
    "- starting value is inclusive and end value is exclusive "
   ]
  },
  {
   "cell_type": "code",
   "execution_count": null,
   "id": "2dafabc6",
   "metadata": {},
   "outputs": [],
   "source": [
    "range(10,20,1)\n",
    "# 10,11,12,13,14,15,16,17,18,19  \n",
    "range(20,30,2)\n",
    "# 20,22,24,26,28  \n",
    "range(20,41,5)  \n",
    "# 20,25,30,35,40  \n",
    "range(10)  \n",
    "# consider as start value  \n",
    "range(20,30)  \n",
    "# consider start value and end value  \n",
    "# reverse print  \n",
    "range(10,1,-1)"
   ]
  },
  {
   "cell_type": "code",
   "execution_count": 55,
   "id": "0ceb955b",
   "metadata": {},
   "outputs": [
    {
     "data": {
      "text/plain": [
       "[10, 11, 12, 13, 14, 15, 16, 17, 18, 19]"
      ]
     },
     "execution_count": 55,
     "metadata": {},
     "output_type": "execute_result"
    }
   ],
   "source": [
    "list(range(10,20,1))"
   ]
  },
  {
   "cell_type": "code",
   "execution_count": 56,
   "id": "448759dc",
   "metadata": {},
   "outputs": [
    {
     "data": {
      "text/plain": [
       "[20, 22, 24, 26, 28]"
      ]
     },
     "execution_count": 56,
     "metadata": {},
     "output_type": "execute_result"
    }
   ],
   "source": [
    "list(range(20,30,2))"
   ]
  },
  {
   "cell_type": "code",
   "execution_count": 57,
   "id": "4b83d646",
   "metadata": {},
   "outputs": [
    {
     "data": {
      "text/plain": [
       "[20, 25, 30, 35, 40]"
      ]
     },
     "execution_count": 57,
     "metadata": {},
     "output_type": "execute_result"
    }
   ],
   "source": [
    "list(range(20,41,5))"
   ]
  },
  {
   "cell_type": "code",
   "execution_count": 59,
   "id": "eb3fa02b",
   "metadata": {},
   "outputs": [
    {
     "data": {
      "text/plain": [
       "[0, 1, 2, 3, 4, 5, 6, 7, 8, 9]"
      ]
     },
     "execution_count": 59,
     "metadata": {},
     "output_type": "execute_result"
    }
   ],
   "source": [
    "list(range(10))"
   ]
  },
  {
   "cell_type": "code",
   "execution_count": 60,
   "id": "d491598e",
   "metadata": {},
   "outputs": [
    {
     "data": {
      "text/plain": [
       "[20, 21, 22, 23, 24, 25, 26, 27, 28, 29]"
      ]
     },
     "execution_count": 60,
     "metadata": {},
     "output_type": "execute_result"
    }
   ],
   "source": [
    "list(range(20,30))"
   ]
  },
  {
   "cell_type": "code",
   "execution_count": 62,
   "id": "dc036e6a",
   "metadata": {},
   "outputs": [
    {
     "data": {
      "text/plain": [
       "[10, 9, 8, 7, 6, 5, 4, 3, 2]"
      ]
     },
     "execution_count": 62,
     "metadata": {},
     "output_type": "execute_result"
    }
   ],
   "source": [
    "list(range(10,1,-1))"
   ]
  },
  {
   "cell_type": "markdown",
   "id": "68399113",
   "metadata": {},
   "source": [
    "### LOOPS  \n",
    "- for,while  \n",
    "- for loop:::A for loop in python is a control flow statement that is used to repeatedly execute group of statements as long as the condition is satisfy.  \n",
    "- Such a type of statement is also known as an iterative statement  \n",
    "- Therefore,\n",
    "- for loop is an iterative statement.   "
   ]
  },
  {
   "cell_type": "code",
   "execution_count": null,
   "id": "b4723758",
   "metadata": {},
   "outputs": [],
   "source": [
    "syntax:::\n",
    "    for iter in iterabale: # range predefined function in the position of iterable \n",
    "        statement1\n",
    "        statement2\n",
    "        statementn"
   ]
  },
  {
   "cell_type": "code",
   "execution_count": 63,
   "id": "695cb0d0",
   "metadata": {},
   "outputs": [
    {
     "name": "stdout",
     "output_type": "stream",
     "text": [
      "0\n",
      "1\n",
      "2\n",
      "3\n",
      "4\n"
     ]
    }
   ],
   "source": [
    "for i in range(5):\n",
    "    print(i)"
   ]
  },
  {
   "cell_type": "code",
   "execution_count": 64,
   "id": "ec406793",
   "metadata": {},
   "outputs": [
    {
     "name": "stdout",
     "output_type": "stream",
     "text": [
      "0 1 2 3 4 "
     ]
    }
   ],
   "source": [
    "for i in range(5):\n",
    "    print(i,end=\" \")  "
   ]
  },
  {
   "cell_type": "code",
   "execution_count": 65,
   "id": "4cf6c796",
   "metadata": {},
   "outputs": [
    {
     "name": "stdout",
     "output_type": "stream",
     "text": [
      "0,1,2,3,4,"
     ]
    }
   ],
   "source": [
    "for i in range(5):\n",
    "    print(i,end=\",\")  "
   ]
  },
  {
   "cell_type": "code",
   "execution_count": 67,
   "id": "cb80779e",
   "metadata": {},
   "outputs": [
    {
     "name": "stdout",
     "output_type": "stream",
     "text": [
      "0 "
     ]
    }
   ],
   "source": [
    "for i in range(0,11,12):\n",
    "    print(i,end=\" \")  "
   ]
  },
  {
   "cell_type": "code",
   "execution_count": 68,
   "id": "5185b8ac",
   "metadata": {},
   "outputs": [
    {
     "name": "stdout",
     "output_type": "stream",
     "text": [
      "0 2 4 6 8 10 12 14 16 18 20 22 24 26 28 30 32 34 36 38 40 42 44 46 48 50 52 54 56 58 60 62 64 66 68 70 72 74 76 78 80 82 84 86 88 90 92 94 96 98 100 \n",
      " even number count: 51\n"
     ]
    }
   ],
   "source": [
    "# print the even numbers in the range of 0 to 100  and print even number count  \n",
    "c=0\n",
    "for i in range(0,101,2):\n",
    "    c=c+1\n",
    "    print(i,end=\" \")  \n",
    "print(\"\\n even number count:\",c)"
   ]
  },
  {
   "cell_type": "code",
   "execution_count": 74,
   "id": "b16743e4",
   "metadata": {},
   "outputs": [
    {
     "name": "stdout",
     "output_type": "stream",
     "text": [
      "0 1 2 3 4 5 6 7 8 9 10 11 12 13 14 15 16 17 18 19 20 21 22 23 24 25 26 27 28 29 30 31 32 33 34 35 36 37 38 39 40 41 42 43 44 45 46 47 48 49 50 51 52 53 54 55 56 57 58 59 60 61 62 63 64 65 66 67 68 69 70 71 72 73 74 75 76 77 78 79 80 81 82 83 84 85 86 87 88 89 90 91 92 93 94 95 96 97 98 99 100 \n",
      " even number count: 51\n"
     ]
    }
   ],
   "source": [
    "c=0\n",
    "for i in range(0,101):\n",
    "    if i%2==0:c=c+1\n",
    "    print(i,end=\" \")  \n",
    "print(\"\\n even number count:\",c)"
   ]
  },
  {
   "cell_type": "code",
   "execution_count": 73,
   "id": "08b40d66",
   "metadata": {},
   "outputs": [
    {
     "name": "stdout",
     "output_type": "stream",
     "text": [
      "2000\n",
      "2020\n",
      "2000 2004 2008 2012 2016 2020 \n",
      " years count: 6\n"
     ]
    }
   ],
   "source": [
    "# print leap years from the range of 2000 to 2020,print years count also  \n",
    "x=int(input())\n",
    "y=int(input())\n",
    "c=0\n",
    "for i in range(x,y+1):\n",
    "    if(i%400==0) and (i%100!=0) or (i%4==0):\n",
    "        c=c+1\n",
    "        print(i,end=\" \")\n",
    "print(\"\\n years count:\",c)"
   ]
  },
  {
   "cell_type": "code",
   "execution_count": 75,
   "id": "a8716371",
   "metadata": {},
   "outputs": [
    {
     "name": "stdout",
     "output_type": "stream",
     "text": [
      "5 * 1 = 5\n",
      "5 * 2 = 5\n",
      "5 * 3 = 5\n",
      "5 * 4 = 5\n",
      "5 * 5 = 5\n",
      "5 * 6 = 5\n",
      "5 * 7 = 5\n",
      "5 * 8 = 5\n",
      "5 * 9 = 5\n",
      "5 * 10 = 5\n"
     ]
    }
   ],
   "source": [
    "n=5\n",
    "for i in range(1,11):\n",
    "    print(n,\"*\",i,\"=\",n*1)"
   ]
  },
  {
   "cell_type": "code",
   "execution_count": 78,
   "id": "b3673df0",
   "metadata": {},
   "outputs": [
    {
     "name": "stdout",
     "output_type": "stream",
     "text": [
      "10\n",
      "1 2 5 10 "
     ]
    }
   ],
   "source": [
    "# print factors of five \n",
    "n=int(input())\n",
    "for i in range(1,n+1):\n",
    "    if(n%i==0):\n",
    "        print(i,end=\" \")  "
   ]
  },
  {
   "cell_type": "code",
   "execution_count": 86,
   "id": "f7e73e71",
   "metadata": {},
   "outputs": [
    {
     "name": "stdout",
     "output_type": "stream",
     "text": [
      "ABC\n",
      "198\n"
     ]
    }
   ],
   "source": [
    "# I/P=aba  \n",
    "# 97+98+97=292  \n",
    "# O/P 292  \n",
    "a=input()\n",
    "s=0\n",
    "for i in a:\n",
    "    s=s+ord(i)\n",
    "print(s)"
   ]
  },
  {
   "cell_type": "code",
   "execution_count": 87,
   "id": "8d51eb6f",
   "metadata": {},
   "outputs": [
    {
     "name": "stdout",
     "output_type": "stream",
     "text": [
      "3\n",
      "Prime Number\n"
     ]
    }
   ],
   "source": [
    "# Check the given number is prime or not  \n",
    "n=int(input())\n",
    "c=0\n",
    "for i in range(1,n+1):\n",
    "    if(n%i==0):\n",
    "        c=c+1\n",
    "if(c==2):\n",
    "    print(\"Prime Number\")\n",
    "else:\n",
    "    print(\"Not Prime Number\")  "
   ]
  },
  {
   "cell_type": "code",
   "execution_count": 99,
   "id": "12410f8f",
   "metadata": {},
   "outputs": [
    {
     "name": "stdout",
     "output_type": "stream",
     "text": [
      "0\n",
      "10\n",
      "Even numbers are: 0 2 4 6 8 10 \n",
      " Odd numbers are: 1 3 5 7 9 "
     ]
    }
   ],
   "source": [
    "# print even and odd numbers from 0 to 10  \n",
    "s=int(input())\n",
    "e=int(input())\n",
    "print(\"Even numbers are:\",end=\" \")\n",
    "for i in range(s,e+1):\n",
    "    if(i%2==0):\n",
    "        print(i,end=\" \")\n",
    "print(\"\\n Odd numbers are:\",end=\" \")\n",
    "for i in range(s,e+1):\n",
    "    if(i%2!=0):\n",
    "        print(i,end=\" \")"
   ]
  },
  {
   "cell_type": "code",
   "execution_count": null,
   "id": "e6069e23",
   "metadata": {},
   "outputs": [],
   "source": []
  }
 ],
 "metadata": {
  "kernelspec": {
   "display_name": "Python 3 (ipykernel)",
   "language": "python",
   "name": "python3"
  },
  "language_info": {
   "codemirror_mode": {
    "name": "ipython",
    "version": 3
   },
   "file_extension": ".py",
   "mimetype": "text/x-python",
   "name": "python",
   "nbconvert_exporter": "python",
   "pygments_lexer": "ipython3",
   "version": "3.9.7"
  }
 },
 "nbformat": 4,
 "nbformat_minor": 5
}
